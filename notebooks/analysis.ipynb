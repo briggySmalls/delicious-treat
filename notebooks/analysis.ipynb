{
 "cells": [
  {
   "cell_type": "code",
   "execution_count": null,
   "metadata": {},
   "outputs": [],
   "source": [
    "%load_ext autoreload\n",
    "%autoreload 2"
   ]
  },
  {
   "cell_type": "code",
   "execution_count": null,
   "metadata": {},
   "outputs": [],
   "source": [
    "import pandas as pd\n",
    "from pathlib import Path"
   ]
  },
  {
   "cell_type": "code",
   "execution_count": null,
   "metadata": {},
   "outputs": [],
   "source": [
    "# Read the contents of the file\n",
    "file = Path('WhatsApp Chat with Pippy 😈.txt')\n",
    "with file.open('r') as f:\n",
    "    raw_text = f.read()"
   ]
  },
  {
   "cell_type": "code",
   "execution_count": null,
   "metadata": {},
   "outputs": [],
   "source": [
    "# Parse the contents of the file\n",
    "from delicious_treat.parser import parse\n",
    "data = parse(raw_text)\n",
    "data"
   ]
  },
  {
   "cell_type": "code",
   "execution_count": null,
   "metadata": {},
   "outputs": [],
   "source": [
    "pippy_messages = data[data.name == 'Pippy 😈'].drop(columns=['name'])\n",
    "pippy_messages"
   ]
  },
  {
   "cell_type": "markdown",
   "metadata": {},
   "source": [
    "# Simple counts"
   ]
  },
  {
   "cell_type": "code",
   "execution_count": null,
   "metadata": {},
   "outputs": [],
   "source": [
    "from delicious_treat.analyser import Analyser\n",
    "# Create an analyser for Pippy's messages\n",
    "analyser = Analyser(pippy_messages)\n",
    "analyser.analyse()"
   ]
  },
  {
   "cell_type": "code",
   "execution_count": null,
   "metadata": {},
   "outputs": [],
   "source": [
    "fd = analyser.freq_dist(pos=True)"
   ]
  },
  {
   "cell_type": "code",
   "execution_count": null,
   "metadata": {},
   "outputs": [],
   "source": [
    "fd.conditions()"
   ]
  },
  {
   "cell_type": "code",
   "execution_count": null,
   "metadata": {},
   "outputs": [],
   "source": [
    "fd[''].most_common(40)"
   ]
  },
  {
   "cell_type": "code",
   "execution_count": null,
   "metadata": {},
   "outputs": [],
   "source": [
    "analyser.filter_messages('sex')"
   ]
  },
  {
   "cell_type": "code",
   "execution_count": null,
   "metadata": {},
   "outputs": [],
   "source": [
    "import math\n",
    "from datetime import datetime\n",
    "import matplotlib.dates as mdate\n",
    "\n",
    "def get_date_as_datetime(dt):\n",
    "    return datetime.combine(dt.date(), datetime.min.time())\n",
    "\n",
    "def get_bins(times, duration):\n",
    "    first_date = get_date_as_datetime(times.min())\n",
    "    total_seconds = (get_date_as_datetime(times.max()) - first_date).total_seconds()\n",
    "    bin_count = math.ceil(total_seconds / duration.total_seconds())\n",
    "    return [mdate.epoch2num(datetime.timestamp(first_date + step * duration)) for step in range(bin_count)]"
   ]
  },
  {
   "cell_type": "code",
   "execution_count": null,
   "metadata": {},
   "outputs": [],
   "source": [
    "import matplotlib.pyplot as plt\n",
    "from pandas.plotting import register_matplotlib_converters\n",
    "register_matplotlib_converters()\n",
    "\n",
    "fig, axes = plt.subplots(2, 1)\n",
    "\n",
    "# Get bins from all the messages\n",
    "bins = get_bins(analyser.messages.time, timedelta(days=1))\n",
    "\n",
    "# Plot a filtered subset\n",
    "total, _, _ = axes[0].hist(analyser.messages.time, bins=bins)\n",
    "sub, _, _ = axes[0].hist(analyser.filter_messages('sex').time, bins=bins)\n",
    "\n",
    "# Plot scaled\n",
    "axes[1].bar(bins[:-1], sub / total * 100)"
   ]
  },
  {
   "cell_type": "code",
   "execution_count": null,
   "metadata": {},
   "outputs": [],
   "source": []
  }
 ],
 "metadata": {
  "kernelspec": {
   "display_name": "Python 3",
   "language": "python",
   "name": "python3"
  }
 },
 "nbformat": 4,
 "nbformat_minor": 2
}
